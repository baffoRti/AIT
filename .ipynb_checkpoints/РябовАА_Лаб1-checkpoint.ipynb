{
 "cells": [
  {
   "cell_type": "markdown",
   "id": "f846687e",
   "metadata": {},
   "source": [
    "## Задача #1"
   ]
  },
  {
   "cell_type": "code",
   "execution_count": 4,
   "id": "ff0d7536",
   "metadata": {
    "collapsed": true
   },
   "outputs": [
    {
     "name": "stdout",
     "output_type": "stream",
     "text": [
      "Defaulting to user installation because normal site-packages is not writeable\n",
      "Requirement already satisfied: numpy in c:\\users\\andyr\\appdata\\roaming\\python\\python38\\site-packages (1.21.5)\n",
      "Collecting numpy\n",
      "  Downloading numpy-1.23.5-cp38-cp38-win_amd64.whl (14.7 MB)\n",
      "     ---------------------------------------- 14.7/14.7 MB 9.3 MB/s eta 0:00:00\n",
      "Installing collected packages: numpy\n",
      "  Attempting uninstall: numpy\n",
      "    Found existing installation: numpy 1.21.5\n",
      "    Uninstalling numpy-1.21.5:\n",
      "      Successfully uninstalled numpy-1.21.5\n",
      "Successfully installed numpy-1.23.5\n",
      "Note: you may need to restart the kernel to use updated packages.\n"
     ]
    }
   ],
   "source": [
    "pip install --upgrade numpy"
   ]
  },
  {
   "cell_type": "markdown",
   "id": "88ec4bb4",
   "metadata": {},
   "source": [
    "## Задача #2"
   ]
  },
  {
   "cell_type": "code",
   "execution_count": 1,
   "id": "d9f80e90",
   "metadata": {},
   "outputs": [],
   "source": [
    "import numpy as np\n",
    "from prettytable import PrettyTable\n",
    "import time\n",
    "import random"
   ]
  },
  {
   "cell_type": "code",
   "execution_count": 2,
   "id": "7006ab23",
   "metadata": {},
   "outputs": [],
   "source": [
    "#генерация линейного массива вещественных чисел numpy\n",
    "def lin_array_gen(n):\n",
    "    lin_array = np.random.random(size=n) * 100"
   ]
  },
  {
   "cell_type": "code",
   "execution_count": 14,
   "id": "130e465c",
   "metadata": {},
   "outputs": [],
   "source": [
    "#генерация двумерного массива вещественных чисел numpy\n",
    "def square_array_gen(n):\n",
    "    square_array = np.random.random(size=(n, n)) * 100"
   ]
  },
  {
   "cell_type": "code",
   "execution_count": 4,
   "id": "9e977bea",
   "metadata": {},
   "outputs": [],
   "source": [
    "#генерация линейного списка вещественных чисел classic\n",
    "def lin_list_gen(n):\n",
    "    lin_list = [random.random() * 100 for i in range(n)]"
   ]
  },
  {
   "cell_type": "code",
   "execution_count": 5,
   "id": "99ce84c1",
   "metadata": {},
   "outputs": [],
   "source": [
    "#генерация двумерного списка вещественных чисел classic\n",
    "def sqare_list_gen(n):\n",
    "    square_list = [[random.random() * 100 for j in range(n)] for i in range(n)]"
   ]
  },
  {
   "cell_type": "code",
   "execution_count": 16,
   "id": "7ce3e891",
   "metadata": {},
   "outputs": [
    {
     "name": "stdout",
     "output_type": "stream",
     "text": [
      "+------------------+-------+---------+\n",
      "|    dimensions    |  100  |   1000  |\n",
      "+------------------+-------+---------+\n",
      "|  lin_array_gen   |  0.0  |   0.0   |\n",
      "| square_array_gen | 0.001 |  0.013  |\n",
      "|   lin_list_gen   |  0.0  |   0.0   |\n",
      "|  sqare_list_gen  | 0.001 | 0.16052 |\n",
      "+------------------+-------+---------+\n"
     ]
    }
   ],
   "source": [
    "dimensions = [100, 1000] #[100, 1000, 100000] после этого у меня сломался комп(\n",
    "table = PrettyTable()\n",
    "table.add_column(\"dimensions\", [\"lin_array_gen\", \"square_array_gen\", \"lin_list_gen\", \"sqare_list_gen\"])\n",
    "for dimension in dimensions:\n",
    "    column = []\n",
    "    \n",
    "    start = time.time()\n",
    "    lin_array_gen(dimension)\n",
    "    stop = time.time() - start\n",
    "    column.append(round(stop, 5))\n",
    "    \n",
    "    start = time.time()\n",
    "    square_array_gen(dimension)\n",
    "    stop = time.time() - start\n",
    "    column.append(round(stop, 5))\n",
    "    \n",
    "    start = time.time()\n",
    "    lin_list_gen(dimension)\n",
    "    stop = time.time() - start\n",
    "    column.append(round(stop, 5))\n",
    "    \n",
    "    start = time.time()\n",
    "    sqare_list_gen(dimension)\n",
    "    stop = time.time() - start\n",
    "    column.append(round(stop, 5))\n",
    "    \n",
    "    table.add_column(str(dimension), column)\n",
    "    \n",
    "print(table)"
   ]
  },
  {
   "cell_type": "markdown",
   "id": "6f528025",
   "metadata": {},
   "source": [
    "## Задача #3"
   ]
  },
  {
   "cell_type": "code",
   "execution_count": 20,
   "id": "c76f0801",
   "metadata": {},
   "outputs": [
    {
     "name": "stdout",
     "output_type": "stream",
     "text": [
      "Origin:\n",
      "[[ 9.43 49.64 88.95  7.14 31.06 47.36 57.38 52.24 57.5  51.41]\n",
      " [67.88 23.36 38.14 61.05 44.35 23.72 92.87 50.4  96.63 42.51]\n",
      " [69.72 52.59 85.81 13.89  7.86 67.48 27.93 58.92 92.02 14.62]\n",
      " [51.12 15.27 95.3  46.73 65.04 38.2  41.43 14.68 70.48 55.44]\n",
      " [ 0.47 74.87 68.92 46.3  57.46 70.49 35.53 30.93 96.09 59.69]\n",
      " [19.73 47.16  2.26 28.05 15.81  1.17 77.57 89.52  1.78 90.71]\n",
      " [ 3.62  7.35 68.88 64.34 32.16 77.74 54.03 61.89 79.77 54.44]\n",
      " [ 1.59 55.83 33.54  0.16 56.7  35.56 86.64 88.08 64.79 88.11]\n",
      " [78.94 38.8  14.39 12.39 11.23  4.15 86.12 12.47  4.91 29.84]\n",
      " [60.89 29.07  6.75 68.85 74.41 85.8  34.47 75.97 76.26 93.41]]\n",
      "Sum:\n",
      "[[ 19.43  59.64  98.95  17.14  41.06  57.36  67.38  62.24  67.5   61.41]\n",
      " [ 77.88  33.36  48.14  71.05  54.35  33.72 102.87  60.4  106.63  52.51]\n",
      " [ 79.72  62.59  95.81  23.89  17.86  77.48  37.93  68.92 102.02  24.62]\n",
      " [ 61.12  25.27 105.3   56.73  75.04  48.2   51.43  24.68  80.48  65.44]\n",
      " [ 10.47  84.87  78.92  56.3   67.46  80.49  45.53  40.93 106.09  69.69]\n",
      " [ 29.73  57.16  12.26  38.05  25.81  11.17  87.57  99.52  11.78 100.71]\n",
      " [ 13.62  17.35  78.88  74.34  42.16  87.74  64.03  71.89  89.77  64.44]\n",
      " [ 11.59  65.83  43.54  10.16  66.7   45.56  96.64  98.08  74.79  98.11]\n",
      " [ 88.94  48.8   24.39  22.39  21.23  14.15  96.12  22.47  14.91  39.84]\n",
      " [ 70.89  39.07  16.75  78.85  84.41  95.8   44.47  85.97  86.26 103.41]]\n",
      "Diff:\n",
      "[[-0.57 39.64 78.95 -2.86 21.06 37.36 47.38 42.24 47.5  41.41]\n",
      " [57.88 13.36 28.14 51.05 34.35 13.72 82.87 40.4  86.63 32.51]\n",
      " [59.72 42.59 75.81  3.89 -2.14 57.48 17.93 48.92 82.02  4.62]\n",
      " [41.12  5.27 85.3  36.73 55.04 28.2  31.43  4.68 60.48 45.44]\n",
      " [-9.53 64.87 58.92 36.3  47.46 60.49 25.53 20.93 86.09 49.69]\n",
      " [ 9.73 37.16 -7.74 18.05  5.81 -8.83 67.57 79.52 -8.22 80.71]\n",
      " [-6.38 -2.65 58.88 54.34 22.16 67.74 44.03 51.89 69.77 44.44]\n",
      " [-8.41 45.83 23.54 -9.84 46.7  25.56 76.64 78.08 54.79 78.11]\n",
      " [68.94 28.8   4.39  2.39  1.23 -5.85 76.12  2.47 -5.09 19.84]\n",
      " [50.89 19.07 -3.25 58.85 64.41 75.8  24.47 65.97 66.26 83.41]]\n",
      "Mul:\n",
      "[[ 94.3 496.4 889.5  71.4 310.6 473.6 573.8 522.4 575.  514.1]\n",
      " [678.8 233.6 381.4 610.5 443.5 237.2 928.7 504.  966.3 425.1]\n",
      " [697.2 525.9 858.1 138.9  78.6 674.8 279.3 589.2 920.2 146.2]\n",
      " [511.2 152.7 953.  467.3 650.4 382.  414.3 146.8 704.8 554.4]\n",
      " [  4.7 748.7 689.2 463.  574.6 704.9 355.3 309.3 960.9 596.9]\n",
      " [197.3 471.6  22.6 280.5 158.1  11.7 775.7 895.2  17.8 907.1]\n",
      " [ 36.2  73.5 688.8 643.4 321.6 777.4 540.3 618.9 797.7 544.4]\n",
      " [ 15.9 558.3 335.4   1.6 567.  355.6 866.4 880.8 647.9 881.1]\n",
      " [789.4 388.  143.9 123.9 112.3  41.5 861.2 124.7  49.1 298.4]\n",
      " [608.9 290.7  67.5 688.5 744.1 858.  344.7 759.7 762.6 934.1]]\n",
      "Div:\n",
      "[[0.943 4.964 8.895 0.714 3.106 4.736 5.738 5.224 5.75  5.141]\n",
      " [6.788 2.336 3.814 6.105 4.435 2.372 9.287 5.04  9.663 4.251]\n",
      " [6.972 5.259 8.581 1.389 0.786 6.748 2.793 5.892 9.202 1.462]\n",
      " [5.112 1.527 9.53  4.673 6.504 3.82  4.143 1.468 7.048 5.544]\n",
      " [0.047 7.487 6.892 4.63  5.746 7.049 3.553 3.093 9.609 5.969]\n",
      " [1.973 4.716 0.226 2.805 1.581 0.117 7.757 8.952 0.178 9.071]\n",
      " [0.362 0.735 6.888 6.434 3.216 7.774 5.403 6.189 7.977 5.444]\n",
      " [0.159 5.583 3.354 0.016 5.67  3.556 8.664 8.808 6.479 8.811]\n",
      " [7.894 3.88  1.439 1.239 1.123 0.415 8.612 1.247 0.491 2.984]\n",
      " [6.089 2.907 0.675 6.885 7.441 8.58  3.447 7.597 7.626 9.341]]\n"
     ]
    }
   ],
   "source": [
    "c = 10\n",
    "square_array = np.around(np.random.random(size=(10, 10)) * 100, 2)\n",
    "print(f\"Origin:\\n{square_array}\")\n",
    "print(f\"Sum:\\n{square_array + c}\")\n",
    "print(f\"Diff:\\n{square_array - c}\")\n",
    "print(f\"Mul:\\n{square_array * c}\")\n",
    "print(f\"Div:\\n{square_array / c}\")"
   ]
  },
  {
   "cell_type": "markdown",
   "id": "a236cb45",
   "metadata": {},
   "source": [
    "## Задача #4"
   ]
  },
  {
   "cell_type": "code",
   "execution_count": 2,
   "id": "2c917378",
   "metadata": {},
   "outputs": [],
   "source": [
    "#генерация первого поколения\n",
    "def first_gen(arr):\n",
    "    for row in arr:\n",
    "        for i in range(len(row)):\n",
    "            if np.random.choice([0, 1]) == 1:\n",
    "                row[i] = 1"
   ]
  },
  {
   "cell_type": "code",
   "execution_count": 3,
   "id": "52eb05f4",
   "metadata": {},
   "outputs": [],
   "source": [
    "#генерация следующего поколения\n",
    "def next_gen(arr):\n",
    "    tmp_arr = arr.copy()\n",
    "    for i in range(len(arr)):\n",
    "        for j in range(len(arr[i])):\n",
    "            counter = sum([arr[(i - 1) % len(arr)][(j - 1) % len(arr[i])],\n",
    "                           arr[(i - 1) % len(arr)][j],\n",
    "                           arr[(i - 1) % len(arr)][(j + 1) % len(arr[i])],\n",
    "                           arr[i][(j - 1) % len(arr[i])],\n",
    "                           arr[i][(j + 1) % len(arr[i])],\n",
    "                           arr[(i + 1) % len(arr)][(j - 1) % len(arr[i])],\n",
    "                           arr[(i + 1) % len(arr)][j],\n",
    "                           arr[(i + 1) % len(arr)][(j + 1) % len(arr[i])]])\n",
    "            if arr[i][j] == 0:\n",
    "                if counter == 3:\n",
    "                    tmp_arr[i][j] = 1\n",
    "            else:\n",
    "                if counter < 2 or counter > 3:\n",
    "                    tmp_arr[i][j] = 0\n",
    "    return tmp_arr"
   ]
  },
  {
   "cell_type": "code",
   "execution_count": 4,
   "id": "22487525",
   "metadata": {},
   "outputs": [],
   "source": [
    "#проверка на зацикливание\n",
    "def is_loop(arr):\n",
    "    for i in range(len(arr)-1):\n",
    "        if (arr[i] == arr[len(arr)-1]).all():\n",
    "            return True\n",
    "    return False"
   ]
  },
  {
   "cell_type": "code",
   "execution_count": 5,
   "id": "acf9960c",
   "metadata": {},
   "outputs": [],
   "source": [
    "#поиск жизни в колонии\n",
    "def is_alive(arr):\n",
    "    for row in arr:\n",
    "        for item in row:\n",
    "            if item == 1:\n",
    "                return True\n",
    "    return False"
   ]
  },
  {
   "cell_type": "code",
   "execution_count": 9,
   "id": "4e621f15",
   "metadata": {},
   "outputs": [
    {
     "name": "stdout",
     "output_type": "stream",
     "text": [
      "[[1 0 1 0 0 0 0 1 0 0]\n",
      " [1 1 0 1 0 0 1 0 0 0]\n",
      " [0 0 1 1 0 1 0 1 0 0]\n",
      " [1 1 0 1 1 1 1 1 0 1]\n",
      " [1 0 0 0 0 0 0 1 1 0]\n",
      " [1 1 0 1 0 1 0 0 1 1]\n",
      " [1 0 1 0 1 1 0 0 1 1]\n",
      " [0 0 1 0 0 0 1 1 0 1]\n",
      " [1 0 1 1 0 1 1 1 1 1]\n",
      " [1 1 1 1 0 0 1 1 0 1]]\n",
      "Конфигурация зациклилась! Колония впала в стагнацию на 86 поколении.\n",
      "[[0 0 0 0 0 1 0 1 0 0]\n",
      " [0 0 0 0 0 1 1 0 0 0]\n",
      " [0 0 0 0 0 0 0 0 0 0]\n",
      " [0 0 0 0 0 1 1 0 0 0]\n",
      " [0 0 0 0 0 1 1 0 0 0]\n",
      " [0 0 0 0 0 0 0 0 0 0]\n",
      " [0 0 0 0 0 0 0 0 0 0]\n",
      " [0 0 0 0 0 0 0 0 0 0]\n",
      " [0 0 0 0 0 0 0 0 0 0]\n",
      " [0 0 0 0 0 0 1 0 0 0]]\n"
     ]
    }
   ],
   "source": [
    "#играем в жизнь\n",
    "x = 10\n",
    "y = 10\n",
    "max_iter = 1000 # на случай, если все это слишком затянется\n",
    "history = np.empty(0)\n",
    "\n",
    "space = np.zeros((x, y), dtype=int)\n",
    "first_gen(space)\n",
    "np.append(history, space)\n",
    "print(space)\n",
    "for i in range(max_iter):\n",
    "    last_conf = space.copy()\n",
    "    space = next_gen(space)\n",
    "    np.append(history, space)\n",
    "    if not is_alive(space):\n",
    "        print(f\"Жизнь не обнаружена! Колония загнулась на {i} поколении.\")\n",
    "        break\n",
    "    if (space == last_conf).all() or is_loop(history):\n",
    "        print(f\"Конфигурация зациклилась! Колония впала в стагнацию на {i} поколении.\")\n",
    "        break\n",
    "print(space)"
   ]
  }
 ],
 "metadata": {
  "kernelspec": {
   "display_name": "Python 3 (ipykernel)",
   "language": "python",
   "name": "python3"
  },
  "language_info": {
   "codemirror_mode": {
    "name": "ipython",
    "version": 3
   },
   "file_extension": ".py",
   "mimetype": "text/x-python",
   "name": "python",
   "nbconvert_exporter": "python",
   "pygments_lexer": "ipython3",
   "version": "3.8.2"
  }
 },
 "nbformat": 4,
 "nbformat_minor": 5
}
